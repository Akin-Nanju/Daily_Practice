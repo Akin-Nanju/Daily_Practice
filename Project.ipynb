{
 "cells": [
  {
   "cell_type": "code",
   "execution_count": 0,
   "metadata": {
    "application/vnd.databricks.v1+cell": {
     "cellMetadata": {
      "byteLimit": 2048000,
      "rowLimit": 10000
     },
     "inputWidgets": {},
     "nuid": "b0c2b7d1-d0e2-4e26-8bcc-08eaca2bcea7",
     "showTitle": false,
     "tableResultSettingsMap": {},
     "title": ""
    }
   },
   "outputs": [
    {
     "output_type": "stream",
     "name": "stdout",
     "output_type": "stream",
     "text": [
      "+---+\n| dt|\n+---+\n|  0|\n+---+\n\n+------------------+\n|AverageTemperature|\n+------------------+\n|            364130|\n+------------------+\n\n+-----------------------------+\n|AverageTemperatureUncertainty|\n+-----------------------------+\n|                       364130|\n+-----------------------------+\n\n+----+\n|City|\n+----+\n|   0|\n+----+\n\n+-------+\n|Country|\n+-------+\n|      0|\n+-------+\n\n+--------+\n|Latitude|\n+--------+\n|       0|\n+--------+\n\n+---------+\n|Longitude|\n+---------+\n|        0|\n+---------+\n\n+-----------------+------------------+-------------------+\n|          Country|    AvgTemperature|TemperatureCategory|\n+-----------------+------------------+-------------------+\n|           Russia|3.3472679828735536|               Cold|\n|         Paraguay|22.784014312977117|               Warm|\n|            Yemen| 25.76840766445382|               Warm|\n|            Burma|26.016839989290098|               Warm|\n|      Philippines| 26.51646246746498|               Warm|\n|          Eritrea|24.001515877771144|               Warm|\n|         Malaysia|26.434756624383954|               Warm|\n|           Turkey|12.951888167466656|               Mild|\n|           Malawi| 21.34787202649805|               Warm|\n|             Iraq|19.884738137449162|               Mild|\n|          Germany| 8.482790790263838|               Cold|\n|      Afghanistan| 13.81649689626358|               Mild|\n|           France| 10.33791826349408|               Mild|\n|           Greece|16.347482714233184|               Mild|\n|          Algeria|17.763205946291574|               Mild|\n|Equatorial Guinea| 25.17832420749279|               Warm|\n|        Argentina|16.999215885618394|               Mild|\n|          Belgium| 9.726196958758232|               Cold|\n|           Angola|21.759715773235634|               Warm|\n|          Ecuador|20.539170537428014|               Warm|\n+-----------------+------------------+-------------------+\nonly showing top 20 rows\n\n+----------+-------------------+-----------------------------+-----+-------+--------+---------+\n|        dt| AverageTemperature|AverageTemperatureUncertainty| City|Country|Latitude|Longitude|\n+----------+-------------------+-----------------------------+-----+-------+--------+---------+\n|1743-11-01|              6.068|           1.7369999999999999|Århus|Denmark|  57.05N|   10.33E|\n|1744-04-01| 5.7879999999999985|           3.6239999999999997|Århus|Denmark|  57.05N|   10.33E|\n|1744-05-01|             10.644|           1.2830000000000001|Århus|Denmark|  57.05N|   10.33E|\n|1744-06-01| 14.050999999999998|                        1.347|Århus|Denmark|  57.05N|   10.33E|\n|1744-07-01|             16.082|                        1.396|Århus|Denmark|  57.05N|   10.33E|\n|1744-09-01| 12.780999999999999|                        1.454|Århus|Denmark|  57.05N|   10.33E|\n|1744-10-01|               7.95|                         1.63|Århus|Denmark|  57.05N|   10.33E|\n|1744-11-01|  4.638999999999999|           1.3019999999999998|Århus|Denmark|  57.05N|   10.33E|\n|1744-12-01|0.12199999999999987|                        1.756|Århus|Denmark|  57.05N|   10.33E|\n|1745-01-01|-1.3330000000000002|                        1.642|Århus|Denmark|  57.05N|   10.33E|\n|1745-02-01|             -2.732|                        1.358|Århus|Denmark|  57.05N|   10.33E|\n|1745-03-01|              0.129|                        1.088|Århus|Denmark|  57.05N|   10.33E|\n|1745-04-01|              4.042|                        1.138|Århus|Denmark|  57.05N|   10.33E|\n|1750-01-01|              1.699|                        1.013|Århus|Denmark|  57.05N|   10.33E|\n|1750-02-01| 3.9610000000000003|           2.3609999999999998|Århus|Denmark|  57.05N|   10.33E|\n|1750-03-01|              5.182|                         3.48|Århus|Denmark|  57.05N|   10.33E|\n|1750-04-01|              7.197|                        0.732|Århus|Denmark|  57.05N|   10.33E|\n|1750-05-01|             10.634|                        1.351|Århus|Denmark|  57.05N|   10.33E|\n|1750-06-01|             14.913|                        1.181|Århus|Denmark|  57.05N|   10.33E|\n|1750-07-01|             17.831|                         1.22|Århus|Denmark|  57.05N|   10.33E|\n+----------+-------------------+-----------------------------+-----+-------+--------+---------+\nonly showing top 20 rows\n\nData saved successfully!\n"
     ]
    }
   ],
   "source": [
    "from pyspark.sql import *\n",
    "from pyspark.sql.functions import *\n",
    "from pyspark.sql.functions import sum as _sum\n",
    "\n",
    "# Initialize the Spark session\n",
    "spark = SparkSession.builder.appName('Project').getOrCreate()\n",
    "\n",
    "# Creating a function for reading/extracting data\n",
    "def extracting():\n",
    "    df = spark.read.csv('/FileStore/tables/GlobalLandTemperaturesByCity.csv', inferSchema=True, header=True)\n",
    "    return df\n",
    "\n",
    "# Creating a function for transforming data\n",
    "def transform(df):\n",
    "    # Display the null counts for each column\n",
    "    for c in df.columns:\n",
    "        null_count = df.select(_sum(col(c).isNull().cast(\"int\")).alias(c))\n",
    "        null_count.show()\n",
    "\n",
    "    # Group by 'Country' and calculate the average temperature\n",
    "    df_avg_time = df.groupBy('Country').agg(avg('AverageTemperature').alias('AvgTemperature'))\n",
    "\n",
    "    # Add a new column for temperature categories\n",
    "    df_avg_time = df_avg_time.withColumn(\n",
    "        'TemperatureCategory',\n",
    "        when(col('AvgTemperature') > 20, 'Warm')\n",
    "        .when(col('AvgTemperature') > 10, 'Mild')\n",
    "        .otherwise('Cold')\n",
    "    )\n",
    "    df_avg_time.show()\n",
    "\n",
    "    # Drop rows with null values in the original DataFrame\n",
    "    df_cleaned = df.dropna()\n",
    "    df_cleaned.show()\n",
    "\n",
    "    return df_avg_time, df_cleaned\n",
    "\n",
    "# Creating a function to extract/save the transformed data\n",
    "def extracting_transformed_data(df_avg_time, df_cleaned):\n",
    "    # Save the average temperature data with categories to a CSV file\n",
    "    df_avg_time.write.csv('/FileStore/tables/TransformedData', header=True, mode='overwrite')\n",
    "\n",
    "    # Save the cleaned DataFrame to another CSV file\n",
    "    df_cleaned.write.csv('/FileStore/tables/CleanedData', header=True, mode='overwrite')\n",
    "\n",
    "    print(\"Data saved successfully!\")\n",
    "\n",
    "# Call the functions\n",
    "df = extracting()\n",
    "df_avg_time, df_cleaned = transform(df)\n",
    "extracting_transformed_data(df_avg_time, df_cleaned)\n"
   ]
  },
  {
   "cell_type": "code",
   "execution_count": 0,
   "metadata": {
    "application/vnd.databricks.v1+cell": {
     "cellMetadata": {},
     "inputWidgets": {},
     "nuid": "e311c559-f169-423a-8481-11a72ab1fa0a",
     "showTitle": false,
     "tableResultSettingsMap": {},
     "title": ""
    }
   },
   "outputs": [],
   "source": []
  }
 ],
 "metadata": {
  "application/vnd.databricks.v1+notebook": {
   "computePreferences": null,
   "dashboards": [],
   "environmentMetadata": {
    "base_environment": "",
    "client": "1"
   },
   "language": "python",
   "notebookMetadata": {
    "pythonIndentUnit": 4
   },
   "notebookName": "Project",
   "widgets": {}
  }
 },
 "nbformat": 4,
 "nbformat_minor": 0
}
