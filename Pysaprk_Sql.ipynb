{
 "cells": [
  {
   "cell_type": "code",
   "execution_count": 2,
   "id": "3e37908e-6666-4173-861e-06e6be47d69c",
   "metadata": {},
   "outputs": [
    {
     "name": "stdout",
     "output_type": "stream",
     "text": [
      "<pyspark.sql.session.SparkSession object at 0x7af6c00ec4d0>\n"
     ]
    }
   ],
   "source": [
    "from pyspark.sql import SparkSession\n",
    "spark = SparkSession.builder.appName('Pyspark Sql').getOrCreate()\n",
    "print(spark)"
   ]
  },
  {
   "cell_type": "code",
   "execution_count": 3,
   "id": "c0a5d2bf-78e2-4b1c-8024-4454c23693b5",
   "metadata": {},
   "outputs": [
    {
     "name": "stdout",
     "output_type": "stream",
     "text": [
      "+---+-------+---+-----------+------+----------+--------+\n",
      "| id|   name|age| department|salary| join_date|  status|\n",
      "+---+-------+---+-----------+------+----------+--------+\n",
      "|  1|  David| 39|    Finance| 41002|2017-05-18|Resigned|\n",
      "|  2|    Eva| 38|    Finance| 43947|2022-01-28|On Leave|\n",
      "|  3|Charlie| 23|         HR|109222|2018-02-09|On Leave|\n",
      "|  4|    Eva| 23|    Finance|108610|2018-12-05|On Leave|\n",
      "|  5|    Eva| 21|      Sales| 82142|2015-07-25|Resigned|\n",
      "|  6|    Bob| 47|      Sales| 86307|2023-12-01|Resigned|\n",
      "|  7|Charlie| 28|         HR| 34493|2016-05-10|  Active|\n",
      "|  8|Charlie| 47|  Marketing| 80085|2023-07-16|Resigned|\n",
      "|  9|Charlie| 48|Engineering| 64228|2020-03-24|Resigned|\n",
      "| 10|    Eva| 41|  Marketing|109676|2021-12-26|Resigned|\n",
      "| 11|  David| 26|    Finance| 81875|2017-11-11|On Leave|\n",
      "| 12|Charlie| 20|Engineering| 61655|2015-08-01|Resigned|\n",
      "| 13|  Frank| 48|         HR| 73472|2015-11-06|On Leave|\n",
      "| 14|    Eva| 57|         HR| 79437|2022-06-01|  Active|\n",
      "| 15|    Bob| 54|Engineering| 79416|2020-06-14|  Active|\n",
      "| 16|  David| 53|      Sales| 89711|2022-09-01|On Leave|\n",
      "| 17|  Frank| 41|Engineering| 36816|2015-09-29|On Leave|\n",
      "| 18|  Frank| 48|    Finance|107175|2019-12-28|On Leave|\n",
      "| 19|    Bob| 23|      Sales| 94307|2023-03-05|Resigned|\n",
      "| 20|  David| 19|         HR| 76733|2023-12-18|  Active|\n",
      "+---+-------+---+-----------+------+----------+--------+\n",
      "only showing top 20 rows\n",
      "\n"
     ]
    }
   ],
   "source": [
    "df = spark.read.csv('pyspar.csv', header = True)\n",
    "df.show()"
   ]
  },
  {
   "cell_type": "code",
   "execution_count": 9,
   "id": "8ab6da57-23e0-470a-bc90-b552b4fbcb01",
   "metadata": {},
   "outputs": [
    {
     "name": "stdout",
     "output_type": "stream",
     "text": [
      "+---+-------+---+-----------+------+----------+--------+\n",
      "| id|   name|age| department|salary| join_date|  status|\n",
      "+---+-------+---+-----------+------+----------+--------+\n",
      "|  1|  David| 39|    Finance| 41002|2017-05-18|Resigned|\n",
      "|  2|    Eva| 38|    Finance| 43947|2022-01-28|On Leave|\n",
      "|  3|Charlie| 23|         HR|109222|2018-02-09|On Leave|\n",
      "|  4|    Eva| 23|    Finance|108610|2018-12-05|On Leave|\n",
      "|  5|    Eva| 21|      Sales| 82142|2015-07-25|Resigned|\n",
      "|  6|    Bob| 47|      Sales| 86307|2023-12-01|Resigned|\n",
      "|  7|Charlie| 28|         HR| 34493|2016-05-10|  Active|\n",
      "|  8|Charlie| 47|  Marketing| 80085|2023-07-16|Resigned|\n",
      "|  9|Charlie| 48|Engineering| 64228|2020-03-24|Resigned|\n",
      "| 10|    Eva| 41|  Marketing|109676|2021-12-26|Resigned|\n",
      "| 11|  David| 26|    Finance| 81875|2017-11-11|On Leave|\n",
      "| 12|Charlie| 20|Engineering| 61655|2015-08-01|Resigned|\n",
      "| 13|  Frank| 48|         HR| 73472|2015-11-06|On Leave|\n",
      "| 14|    Eva| 57|         HR| 79437|2022-06-01|  Active|\n",
      "| 15|    Bob| 54|Engineering| 79416|2020-06-14|  Active|\n",
      "| 16|  David| 53|      Sales| 89711|2022-09-01|On Leave|\n",
      "| 17|  Frank| 41|Engineering| 36816|2015-09-29|On Leave|\n",
      "| 18|  Frank| 48|    Finance|107175|2019-12-28|On Leave|\n",
      "| 19|    Bob| 23|      Sales| 94307|2023-03-05|Resigned|\n",
      "| 20|  David| 19|         HR| 76733|2023-12-18|  Active|\n",
      "+---+-------+---+-----------+------+----------+--------+\n",
      "only showing top 20 rows\n",
      "\n"
     ]
    }
   ],
   "source": [
    "df.createOrReplaceTempView('emp')\n",
    "#Show all records in the table.\n",
    "spark.sql('SELECT * FROM emp').show()"
   ]
  },
  {
   "cell_type": "code",
   "execution_count": 11,
   "id": "382bbb97-8d6f-4b93-98a3-117a49a71901",
   "metadata": {},
   "outputs": [
    {
     "name": "stdout",
     "output_type": "stream",
     "text": [
      "+-------+---+-----------+\n",
      "|   name|age| department|\n",
      "+-------+---+-----------+\n",
      "|  David| 39|    Finance|\n",
      "|    Eva| 38|    Finance|\n",
      "|Charlie| 23|         HR|\n",
      "|    Eva| 23|    Finance|\n",
      "|    Eva| 21|      Sales|\n",
      "|    Bob| 47|      Sales|\n",
      "|Charlie| 28|         HR|\n",
      "|Charlie| 47|  Marketing|\n",
      "|Charlie| 48|Engineering|\n",
      "|    Eva| 41|  Marketing|\n",
      "|  David| 26|    Finance|\n",
      "|Charlie| 20|Engineering|\n",
      "|  Frank| 48|         HR|\n",
      "|    Eva| 57|         HR|\n",
      "|    Bob| 54|Engineering|\n",
      "|  David| 53|      Sales|\n",
      "|  Frank| 41|Engineering|\n",
      "|  Frank| 48|    Finance|\n",
      "|    Bob| 23|      Sales|\n",
      "|  David| 19|         HR|\n",
      "+-------+---+-----------+\n",
      "only showing top 20 rows\n",
      "\n"
     ]
    }
   ],
   "source": [
    "#Select only name, age, and department.\n",
    "spark.sql('SELECT name,age,department from emp').show()"
   ]
  },
  {
   "cell_type": "code",
   "execution_count": 12,
   "id": "a4ec8e9d-3157-4cb7-8aa4-bf60fd953fdc",
   "metadata": {},
   "outputs": [
    {
     "name": "stdout",
     "output_type": "stream",
     "text": [
      "+---+\n",
      "|age|\n",
      "+---+\n",
      "| 39|\n",
      "| 38|\n",
      "| 47|\n",
      "| 47|\n",
      "| 48|\n",
      "| 41|\n",
      "| 48|\n",
      "| 57|\n",
      "| 54|\n",
      "| 53|\n",
      "| 41|\n",
      "| 48|\n",
      "| 37|\n",
      "| 45|\n",
      "| 32|\n",
      "| 47|\n",
      "| 55|\n",
      "| 32|\n",
      "| 43|\n",
      "| 43|\n",
      "+---+\n",
      "only showing top 20 rows\n",
      "\n"
     ]
    }
   ],
   "source": [
    "#Filter employees older than 30.\n",
    "spark.sql('''SELECT age FROM emp\n",
    "            WHERE age > 30''').show()"
   ]
  },
  {
   "cell_type": "code",
   "execution_count": 14,
   "id": "d331960c-c20b-41e8-9295-522b96ad97cc",
   "metadata": {},
   "outputs": [
    {
     "name": "stdout",
     "output_type": "stream",
     "text": [
      "+---+-------+---+-----------+------+----------+--------+\n",
      "| id|   name|age| department|salary| join_date|  status|\n",
      "+---+-------+---+-----------+------+----------+--------+\n",
      "|  2|    Eva| 38|    Finance| 43947|2022-01-28|On Leave|\n",
      "|  6|    Bob| 47|      Sales| 86307|2023-12-01|Resigned|\n",
      "|  8|Charlie| 47|  Marketing| 80085|2023-07-16|Resigned|\n",
      "|  9|Charlie| 48|Engineering| 64228|2020-03-24|Resigned|\n",
      "| 10|    Eva| 41|  Marketing|109676|2021-12-26|Resigned|\n",
      "| 14|    Eva| 57|         HR| 79437|2022-06-01|  Active|\n",
      "| 15|    Bob| 54|Engineering| 79416|2020-06-14|  Active|\n",
      "| 16|  David| 53|      Sales| 89711|2022-09-01|On Leave|\n",
      "| 19|    Bob| 23|      Sales| 94307|2023-03-05|Resigned|\n",
      "| 20|  David| 19|         HR| 76733|2023-12-18|  Active|\n",
      "| 21|    Eva| 37|Engineering| 41240|2020-09-10|On Leave|\n",
      "| 23|  David| 28|  Marketing| 62762|2021-01-18|  Active|\n",
      "| 24|    Bob| 21|    Finance| 38259|2022-09-15|Resigned|\n",
      "| 29|  Alice| 19|Engineering| 84869|2022-08-05|Resigned|\n",
      "| 30|Charlie| 32|    Finance| 93095|2021-12-27|On Leave|\n",
      "| 31|Charlie| 28|      Sales|100910|2022-10-03|  Active|\n",
      "| 33|  David| 43|    Finance| 53567|2021-10-19|Resigned|\n",
      "| 37|  Frank| 21|         HR| 39885|2023-02-12|On Leave|\n",
      "| 38|Charlie| 36|Engineering| 89659|2022-12-26|On Leave|\n",
      "| 39|  David| 37|Engineering| 84306|2023-09-09|  Active|\n",
      "+---+-------+---+-----------+------+----------+--------+\n",
      "only showing top 20 rows\n",
      "\n"
     ]
    }
   ],
   "source": [
    "#Find all employees who joined after 2020.\n",
    "spark.sql('''SELECT * FROM emp\n",
    "            WHERE join_date > \"2020-01-01\"\n",
    "            ''').show()"
   ]
  },
  {
   "cell_type": "code",
   "execution_count": 16,
   "id": "95a4c8b3-f0f3-48cd-9f59-8edec028b0c2",
   "metadata": {},
   "outputs": [
    {
     "name": "stdout",
     "output_type": "stream",
     "text": [
      "+---+-------+---+----------+------+----------+--------+\n",
      "| id|   name|age|department|salary| join_date|  status|\n",
      "+---+-------+---+----------+------+----------+--------+\n",
      "|  5|    Eva| 21|     Sales| 82142|2015-07-25|Resigned|\n",
      "|  6|    Bob| 47|     Sales| 86307|2023-12-01|Resigned|\n",
      "| 16|  David| 53|     Sales| 89711|2022-09-01|On Leave|\n",
      "| 19|    Bob| 23|     Sales| 94307|2023-03-05|Resigned|\n",
      "| 31|Charlie| 28|     Sales|100910|2022-10-03|  Active|\n",
      "| 35|  Frank| 23|     Sales|104813|2015-06-02|On Leave|\n",
      "| 41|  Alice| 37|     Sales| 95087|2020-01-31|  Active|\n",
      "| 43|    Eva| 18|     Sales| 88929|2019-10-19|On Leave|\n",
      "| 46|  Alice| 55|     Sales| 80500|2021-12-11|  Active|\n",
      "| 48|  David| 28|     Sales| 88643|2018-01-16|On Leave|\n",
      "| 49|  Alice| 53|     Sales| 74900|2023-12-10|Resigned|\n",
      "| 53|    Bob| 23|     Sales|102692|2023-12-14|On Leave|\n",
      "| 58|  David| 19|     Sales| 39168|2015-06-16|  Active|\n",
      "| 59|  David| 30|     Sales|116497|2016-05-23|Resigned|\n",
      "| 60|  David| 57|     Sales| 79879|2019-07-20|  Active|\n",
      "| 61|  David| 19|     Sales| 89871|2021-06-18|  Active|\n",
      "| 63|Charlie| 18|     Sales| 62174|2016-11-11|  Active|\n",
      "| 66|  David| 34|     Sales| 94046|2018-03-10|On Leave|\n",
      "| 76|    Eva| 31|     Sales| 58803|2015-06-24|On Leave|\n",
      "| 80|    Bob| 29|     Sales| 61259|2015-03-06|  Active|\n",
      "+---+-------+---+----------+------+----------+--------+\n",
      "only showing top 20 rows\n",
      "\n"
     ]
    }
   ],
   "source": [
    "#Show all employees from the “Sales” department.\n",
    "spark.sql('''SELECT * FROM emp\n",
    "            Where department = 'Sales' \n",
    "            ''').show()"
   ]
  },
  {
   "cell_type": "code",
   "execution_count": 25,
   "id": "d32feb3b-f4ed-4c95-81df-cdcadfb20133",
   "metadata": {},
   "outputs": [
    {
     "name": "stdout",
     "output_type": "stream",
     "text": [
      "+-----------------+-----------+\n",
      "|      avg(salary)| department|\n",
      "+-----------------+-----------+\n",
      "|74743.77720207254|      Sales|\n",
      "|75890.08292682927|Engineering|\n",
      "|75645.75555555556|         HR|\n",
      "|72984.44554455446|    Finance|\n",
      "|78192.17727272728|  Marketing|\n",
      "+-----------------+-----------+\n",
      "\n"
     ]
    }
   ],
   "source": [
    "#Find the average salary by department.\n",
    "spark.sql('''SELECT avg(salary),department FROM emp\n",
    "            GROUP BY department\n",
    "            ''').show()"
   ]
  },
  {
   "cell_type": "code",
   "execution_count": 27,
   "id": "ba396f05-1ad3-4852-8915-c98b7ac4943c",
   "metadata": {},
   "outputs": [
    {
     "name": "stdout",
     "output_type": "stream",
     "text": [
      "+---+-----------+\n",
      "|  n| department|\n",
      "+---+-----------+\n",
      "|193|      Sales|\n",
      "|205|Engineering|\n",
      "|180|         HR|\n",
      "|202|    Finance|\n",
      "|220|  Marketing|\n",
      "+---+-----------+\n",
      "\n"
     ]
    }
   ],
   "source": [
    "#Count employees in each department.\n",
    "spark.sql('''SELECT count(*) n,department FROM emp\n",
    "            GROUP BY department''').show()"
   ]
  },
  {
   "cell_type": "code",
   "execution_count": 28,
   "id": "21604045-b4c7-4bde-a29e-aa8d4750a223",
   "metadata": {},
   "outputs": [
    {
     "name": "stdout",
     "output_type": "stream",
     "text": [
      "+-----+-----------+\n",
      "|  max| department|\n",
      "+-----+-----------+\n",
      "|99569|Engineering|\n",
      "|99561|    Finance|\n",
      "|98803|         HR|\n",
      "|98648|  Marketing|\n",
      "|98487|      Sales|\n",
      "+-----+-----------+\n",
      "\n"
     ]
    }
   ],
   "source": [
    "#Get the highest salary in each department.\n",
    "spark.sql('''SELECT MAX(SALARY) max,department FROM emp\n",
    "            GROUP BY department''').show()"
   ]
  },
  {
   "cell_type": "code",
   "execution_count": 29,
   "id": "6b165c91-97cf-4042-a6e2-b2cb329d1a32",
   "metadata": {},
   "outputs": [
    {
     "name": "stdout",
     "output_type": "stream",
     "text": [
      "+---+--------+\n",
      "|  n|  status|\n",
      "+---+--------+\n",
      "|330|Resigned|\n",
      "|318|  Active|\n",
      "|352|On Leave|\n",
      "+---+--------+\n",
      "\n"
     ]
    }
   ],
   "source": [
    "#Show how many employees are in each status (Active, Resigned, etc.).\n",
    "spark.sql('''SELECT count(*) n,status FROM emp\n",
    "            GROUP BY status''').show()"
   ]
  },
  {
   "cell_type": "code",
   "execution_count": 31,
   "id": "48dc0379-b112-4f40-8e4d-352985b02b55",
   "metadata": {},
   "outputs": [
    {
     "name": "stdout",
     "output_type": "stream",
     "text": [
      "+-----------+\n",
      "|sum(salary)|\n",
      "+-----------+\n",
      "|7.5544389E7|\n",
      "+-----------+\n",
      "\n"
     ]
    }
   ],
   "source": [
    "#What is the total salary paid across the company?\n",
    "spark.sql('''SELECT SUM(salary) FROM emp''').show()"
   ]
  },
  {
   "cell_type": "code",
   "execution_count": 32,
   "id": "576bed3b-7443-47c0-8d83-cfa01e73fd31",
   "metadata": {},
   "outputs": [
    {
     "name": "stdout",
     "output_type": "stream",
     "text": [
      "+------+-------+\n",
      "|salary|   name|\n",
      "+------+-------+\n",
      "| 99569|    Bob|\n",
      "| 99561|    Eva|\n",
      "| 99338|  David|\n",
      "| 99119|Charlie|\n",
      "| 98899|    Bob|\n",
      "+------+-------+\n",
      "\n"
     ]
    }
   ],
   "source": [
    "#Show top 5 highest-paid employees.\n",
    "spark.sql('''SELECT salary, name FROM emp\n",
    "            ORDER BY salary DESC\n",
    "            LIMIT 5''').show()"
   ]
  },
  {
   "cell_type": "code",
   "execution_count": 37,
   "id": "ac9acd81-9c1d-4b19-9940-e0d5c90737cc",
   "metadata": {},
   "outputs": [
    {
     "name": "stdout",
     "output_type": "stream",
     "text": [
      "+-------+----------+\n",
      "|   name| join_date|\n",
      "+-------+----------+\n",
      "|  Frank|2023-12-31|\n",
      "|  Alice|2023-12-30|\n",
      "|    Bob|2023-12-23|\n",
      "|  David|2023-12-23|\n",
      "|  Alice|2023-12-23|\n",
      "|Charlie|2023-12-22|\n",
      "|  Alice|2023-12-20|\n",
      "|  David|2023-12-18|\n",
      "|    Bob|2023-12-17|\n",
      "|    Bob|2023-12-14|\n",
      "+-------+----------+\n",
      "\n"
     ]
    }
   ],
   "source": [
    "#Show the latest 10 joiners.\n",
    "spark.sql('''SELECT name,join_date FROM emp\n",
    "            ORDER BY join_date DESC\n",
    "            LIMIT 10''').show()"
   ]
  },
  {
   "cell_type": "code",
   "execution_count": 40,
   "id": "26b3d4f7-d48a-4517-b760-8553ecec47d5",
   "metadata": {},
   "outputs": [
    {
     "name": "stdout",
     "output_type": "stream",
     "text": [
      "+---+----+\n",
      "|  m|year|\n",
      "+---+----+\n",
      "|100|2018|\n",
      "|115|2015|\n",
      "|124|2023|\n",
      "|120|2022|\n",
      "| 95|2019|\n",
      "|104|2020|\n",
      "|117|2016|\n",
      "|110|2017|\n",
      "|115|2021|\n",
      "+---+----+\n",
      "\n"
     ]
    }
   ],
   "source": [
    "#Find how many employees joined in each year.\n",
    "spark.sql('''SELECT COUNT(*)m,Year(join_date) year FROM emp\n",
    "            GROUP BY year''').show()"
   ]
  },
  {
   "cell_type": "code",
   "execution_count": 42,
   "id": "97c1caa4-2198-43a1-8aef-f3c085dd1d96",
   "metadata": {},
   "outputs": [
    {
     "name": "stdout",
     "output_type": "stream",
     "text": [
      "+-------+-----+\n",
      "|   name|month|\n",
      "+-------+-----+\n",
      "|    Eva|   12|\n",
      "|    Bob|   12|\n",
      "|    Eva|   12|\n",
      "|  Frank|   12|\n",
      "|  David|   12|\n",
      "|Charlie|   12|\n",
      "|Charlie|   12|\n",
      "|  Alice|   12|\n",
      "|  Alice|   12|\n",
      "|    Bob|   12|\n",
      "|  Frank|   12|\n",
      "|    Eva|   12|\n",
      "|  David|   12|\n",
      "|    Eva|   12|\n",
      "|Charlie|   12|\n",
      "|Charlie|   12|\n",
      "|  David|   12|\n",
      "|    Bob|   12|\n",
      "|  Frank|   12|\n",
      "|Charlie|   12|\n",
      "+-------+-----+\n",
      "only showing top 20 rows\n",
      "\n"
     ]
    }
   ],
   "source": [
    "#Find employees who joined in December (any year).\n",
    "spark.sql('''SELECT name, MONTH(join_date) month from emp\n",
    "            WHERE month(join_date)= 12 ''').show()\n",
    "            "
   ]
  }
 ],
 "metadata": {
  "kernelspec": {
   "display_name": "Python 3 (ipykernel)",
   "language": "python",
   "name": "python3"
  },
  "language_info": {
   "codemirror_mode": {
    "name": "ipython",
    "version": 3
   },
   "file_extension": ".py",
   "mimetype": "text/x-python",
   "name": "python",
   "nbconvert_exporter": "python",
   "pygments_lexer": "ipython3",
   "version": "3.11.6"
  }
 },
 "nbformat": 4,
 "nbformat_minor": 5
}
