{
 "cells": [
  {
   "cell_type": "code",
   "execution_count": 12,
   "id": "92ddeb19-b3a2-49ac-9d2e-540cabfdeb62",
   "metadata": {},
   "outputs": [
    {
     "name": "stdin",
     "output_type": "stream",
     "text": [
      "Set up your password:  12\n",
      "Enter your bank ID:  111111\n",
      "Enter your password:  12\n"
     ]
    },
    {
     "name": "stdout",
     "output_type": "stream",
     "text": [
      "Access granted!\n"
     ]
    },
    {
     "name": "stdin",
     "output_type": "stream",
     "text": [
      "Enter the amount you want to withdraw:  99999\n",
      "Do you want to withdraw 99999 amount? (y/n):  y\n"
     ]
    },
    {
     "name": "stdout",
     "output_type": "stream",
     "text": [
      "Withdrawal successful! Remaining balance is 1.\n",
      "Thank you for visiting!\n"
     ]
    }
   ],
   "source": [
    "def setup():\n",
    "    # Initialize user setup with password and balance\n",
    "    password = int(input(\"Set up your password: \"))\n",
    "    total_balance = 100000\n",
    "    return password, total_balance\n",
    "\n",
    "\n",
    "def atm():\n",
    "    # Retrieve password and balance from setup\n",
    "    password, total_balance = setup()\n",
    "\n",
    "    # bank ID and password\n",
    "    bank_id = int(input(\"Enter your bank ID: \"))\n",
    "    entered_password = int(input(\"Enter your password: \"))\n",
    "\n",
    "    if entered_password == password:\n",
    "        print(\"Access granted!\")\n",
    "        \n",
    "        # Withdrawal logic\n",
    "        withdraw_amount = int(input(\"Enter the amount you want to withdraw: \"))\n",
    "        \n",
    "        if withdraw_amount > total_balance:\n",
    "            print(\"Insufficient balance.\")\n",
    "        else:\n",
    "            # Confirm withdrawal\n",
    "            confirmation = input(f\"Do you want to withdraw {withdraw_amount} amount? (y/n): \").lower()\n",
    "            \n",
    "            if confirmation == 'y':\n",
    "                total_balance -= withdraw_amount\n",
    "                print(f\"Withdrawal successful! Remaining balance is {total_balance}.\")\n",
    "            else:\n",
    "                print(\"Withdrawal canceled. Please confirm again if needed.\")\n",
    "    else:\n",
    "        print(\"Incorrect password. Access denied.\")\n",
    "\n",
    "\n",
    "def closing():\n",
    "    # Closing message\n",
    "    print(\"Thank you for visiting!\")\n",
    "\n",
    "\n",
    "# Run the system\n",
    "atm()\n",
    "closing()\n"
   ]
  },
  {
   "cell_type": "code",
   "execution_count": null,
   "id": "eb996efd-3954-40b1-a29e-c8aa95ca1c09",
   "metadata": {},
   "outputs": [],
   "source": []
  }
 ],
 "metadata": {
  "kernelspec": {
   "display_name": "Python 3 (ipykernel)",
   "language": "python",
   "name": "python3"
  },
  "language_info": {
   "codemirror_mode": {
    "name": "ipython",
    "version": 3
   },
   "file_extension": ".py",
   "mimetype": "text/x-python",
   "name": "python",
   "nbconvert_exporter": "python",
   "pygments_lexer": "ipython3",
   "version": "3.12.7"
  }
 },
 "nbformat": 4,
 "nbformat_minor": 5
}
