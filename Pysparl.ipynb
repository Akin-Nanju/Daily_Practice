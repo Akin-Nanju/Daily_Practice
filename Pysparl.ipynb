{
 "cells": [
  {
   "cell_type": "code",
   "execution_count": 3,
   "id": "078042f0-45e2-498f-996b-812ac40f915e",
   "metadata": {},
   "outputs": [
    {
     "name": "stdout",
     "output_type": "stream",
     "text": [
      "+---+-----+\n",
      "| id| name|\n",
      "+---+-----+\n",
      "|  1|Alice|\n",
      "|  2|  Bob|\n",
      "+---+-----+\n",
      "\n"
     ]
    }
   ],
   "source": [
    "from pyspark.sql import SparkSession\n",
    "from pyspark.sql.functions import avg\n",
    "spark = SparkSession.builder.appName(\"Test\").getOrCreate()\n",
    "\n",
    "df = spark.createDataFrame([\n",
    "    (1, \"Alice\"),\n",
    "    (2, \"Bob\")\n",
    "], [\"id\", \"name\"])\n",
    "\n",
    "df.show()"
   ]
  },
  {
   "cell_type": "code",
   "execution_count": 7,
   "id": "54a96bff-a30f-4bd3-bd07-305e4afb6363",
   "metadata": {},
   "outputs": [
    {
     "name": "stdout",
     "output_type": "stream",
     "text": [
      "+-----------+--------+------+--------------------+------+----+-----+-----+----------------+--------+-----------+--------+\n",
      "|PassengerId|Survived|Pclass|                Name|   Sex| Age|SibSp|Parch|          Ticket|    Fare|      Cabin|Embarked|\n",
      "+-----------+--------+------+--------------------+------+----+-----+-----+----------------+--------+-----------+--------+\n",
      "|          1|       0|     3|Braund, Mr. Owen ...|  male|22.0|    1|    0|       A/5 21171|    7.25|       NULL|       S|\n",
      "|          2|       1|     1|Cumings, Mrs. Joh...|female|38.0|    1|    0|        PC 17599| 71.2833|        C85|       C|\n",
      "|          3|       1|     3|Heikkinen, Miss. ...|female|26.0|    0|    0|STON/O2. 3101282|   7.925|       NULL|       S|\n",
      "|          4|       1|     1|Futrelle, Mrs. Ja...|female|35.0|    1|    0|          113803|    53.1|       C123|       S|\n",
      "|          5|       0|     3|Allen, Mr. Willia...|  male|35.0|    0|    0|          373450|    8.05|       NULL|       S|\n",
      "|          6|       0|     3|    Moran, Mr. James|  male|NULL|    0|    0|          330877|  8.4583|       NULL|       Q|\n",
      "|          7|       0|     1|McCarthy, Mr. Tim...|  male|54.0|    0|    0|           17463| 51.8625|        E46|       S|\n",
      "|          8|       0|     3|Palsson, Master. ...|  male| 2.0|    3|    1|          349909|  21.075|       NULL|       S|\n",
      "|          9|       1|     3|Johnson, Mrs. Osc...|female|27.0|    0|    2|          347742| 11.1333|       NULL|       S|\n",
      "|         10|       1|     2|Nasser, Mrs. Nich...|female|14.0|    1|    0|          237736| 30.0708|       NULL|       C|\n",
      "|         11|       1|     3|Sandstrom, Miss. ...|female| 4.0|    1|    1|         PP 9549|    16.7|         G6|       S|\n",
      "|         12|       1|     1|Bonnell, Miss. El...|female|58.0|    0|    0|          113783|   26.55|       C103|       S|\n",
      "|         13|       0|     3|Saundercock, Mr. ...|  male|20.0|    0|    0|       A/5. 2151|    8.05|       NULL|       S|\n",
      "|         14|       0|     3|Andersson, Mr. An...|  male|39.0|    1|    5|          347082|  31.275|       NULL|       S|\n",
      "|         15|       0|     3|Vestrom, Miss. Hu...|female|14.0|    0|    0|          350406|  7.8542|       NULL|       S|\n",
      "|         16|       1|     2|Hewlett, Mrs. (Ma...|female|55.0|    0|    0|          248706|    16.0|       NULL|       S|\n",
      "|         17|       0|     3|Rice, Master. Eugene|  male| 2.0|    4|    1|          382652|  29.125|       NULL|       Q|\n",
      "|         18|       1|     2|Williams, Mr. Cha...|  male|NULL|    0|    0|          244373|    13.0|       NULL|       S|\n",
      "|         19|       0|     3|Vander Planke, Mr...|female|31.0|    1|    0|          345763|    18.0|       NULL|       S|\n",
      "|         20|       1|     3|Masselmani, Mrs. ...|female|NULL|    0|    0|            2649|   7.225|       NULL|       C|\n",
      "|         21|       0|     2|Fynney, Mr. Joseph J|  male|35.0|    0|    0|          239865|    26.0|       NULL|       S|\n",
      "|         22|       1|     2|Beesley, Mr. Lawr...|  male|34.0|    0|    0|          248698|    13.0|        D56|       S|\n",
      "|         23|       1|     3|McGowan, Miss. An...|female|15.0|    0|    0|          330923|  8.0292|       NULL|       Q|\n",
      "|         24|       1|     1|Sloper, Mr. Willi...|  male|28.0|    0|    0|          113788|    35.5|         A6|       S|\n",
      "|         25|       0|     3|Palsson, Miss. To...|female| 8.0|    3|    1|          349909|  21.075|       NULL|       S|\n",
      "|         26|       1|     3|Asplund, Mrs. Car...|female|38.0|    1|    5|          347077| 31.3875|       NULL|       S|\n",
      "|         27|       0|     3|Emir, Mr. Farred ...|  male|NULL|    0|    0|            2631|   7.225|       NULL|       C|\n",
      "|         28|       0|     1|Fortune, Mr. Char...|  male|19.0|    3|    2|           19950|   263.0|C23 C25 C27|       S|\n",
      "|         29|       1|     3|O'Dwyer, Miss. El...|female|NULL|    0|    0|          330959|  7.8792|       NULL|       Q|\n",
      "|         30|       0|     3| Todoroff, Mr. Lalio|  male|NULL|    0|    0|          349216|  7.8958|       NULL|       S|\n",
      "|         31|       0|     1|Uruchurtu, Don. M...|  male|40.0|    0|    0|        PC 17601| 27.7208|       NULL|       C|\n",
      "|         32|       1|     1|Spencer, Mrs. Wil...|female|NULL|    1|    0|        PC 17569|146.5208|        B78|       C|\n",
      "|         33|       1|     3|Glynn, Miss. Mary...|female|NULL|    0|    0|          335677|    7.75|       NULL|       Q|\n",
      "|         34|       0|     2|Wheadon, Mr. Edwa...|  male|66.0|    0|    0|      C.A. 24579|    10.5|       NULL|       S|\n",
      "|         35|       0|     1|Meyer, Mr. Edgar ...|  male|28.0|    1|    0|        PC 17604| 82.1708|       NULL|       C|\n",
      "|         36|       0|     1|Holverson, Mr. Al...|  male|42.0|    1|    0|          113789|    52.0|       NULL|       S|\n",
      "|         37|       1|     3|    Mamee, Mr. Hanna|  male|NULL|    0|    0|            2677|  7.2292|       NULL|       C|\n",
      "|         38|       0|     3|Cann, Mr. Ernest ...|  male|21.0|    0|    0|      A./5. 2152|    8.05|       NULL|       S|\n",
      "|         39|       0|     3|Vander Planke, Mi...|female|18.0|    2|    0|          345764|    18.0|       NULL|       S|\n",
      "|         40|       1|     3|Nicola-Yarred, Mi...|female|14.0|    1|    0|            2651| 11.2417|       NULL|       C|\n",
      "|         41|       0|     3|Ahlin, Mrs. Johan...|female|40.0|    1|    0|            7546|   9.475|       NULL|       S|\n",
      "|         42|       0|     2|Turpin, Mrs. Will...|female|27.0|    1|    0|           11668|    21.0|       NULL|       S|\n",
      "|         43|       0|     3| Kraeff, Mr. Theodor|  male|NULL|    0|    0|          349253|  7.8958|       NULL|       C|\n",
      "|         44|       1|     2|Laroche, Miss. Si...|female| 3.0|    1|    2|   SC/Paris 2123| 41.5792|       NULL|       C|\n",
      "|         45|       1|     3|Devaney, Miss. Ma...|female|19.0|    0|    0|          330958|  7.8792|       NULL|       Q|\n",
      "|         46|       0|     3|Rogers, Mr. Willi...|  male|NULL|    0|    0| S.C./A.4. 23567|    8.05|       NULL|       S|\n",
      "|         47|       0|     3|   Lennon, Mr. Denis|  male|NULL|    1|    0|          370371|    15.5|       NULL|       Q|\n",
      "|         48|       1|     3|O'Driscoll, Miss....|female|NULL|    0|    0|           14311|    7.75|       NULL|       Q|\n",
      "|         49|       0|     3| Samaan, Mr. Youssef|  male|NULL|    2|    0|            2662| 21.6792|       NULL|       C|\n",
      "|         50|       0|     3|Arnold-Franchi, M...|female|18.0|    1|    0|          349237|    17.8|       NULL|       S|\n",
      "|         51|       0|     3|Panula, Master. J...|  male| 7.0|    4|    1|         3101295| 39.6875|       NULL|       S|\n",
      "|         52|       0|     3|Nosworthy, Mr. Ri...|  male|21.0|    0|    0|      A/4. 39886|     7.8|       NULL|       S|\n",
      "|         53|       1|     1|Harper, Mrs. Henr...|female|49.0|    1|    0|        PC 17572| 76.7292|        D33|       C|\n",
      "|         54|       1|     2|Faunthorpe, Mrs. ...|female|29.0|    1|    0|            2926|    26.0|       NULL|       S|\n",
      "|         55|       0|     1|Ostby, Mr. Engelh...|  male|65.0|    0|    1|          113509| 61.9792|        B30|       C|\n",
      "|         56|       1|     1|   Woolner, Mr. Hugh|  male|NULL|    0|    0|           19947|    35.5|        C52|       S|\n",
      "|         57|       1|     2|   Rugg, Miss. Emily|female|21.0|    0|    0|      C.A. 31026|    10.5|       NULL|       S|\n",
      "|         58|       0|     3| Novel, Mr. Mansouer|  male|28.5|    0|    0|            2697|  7.2292|       NULL|       C|\n",
      "|         59|       1|     2|West, Miss. Const...|female| 5.0|    1|    2|      C.A. 34651|   27.75|       NULL|       S|\n",
      "|         60|       0|     3|Goodwin, Master. ...|  male|11.0|    5|    2|         CA 2144|    46.9|       NULL|       S|\n",
      "|         61|       0|     3|Sirayanian, Mr. O...|  male|22.0|    0|    0|            2669|  7.2292|       NULL|       C|\n",
      "|         62|       1|     1| Icard, Miss. Amelie|female|38.0|    0|    0|          113572|    80.0|        B28|    NULL|\n",
      "|         63|       0|     1|Harris, Mr. Henry...|  male|45.0|    1|    0|           36973|  83.475|        C83|       S|\n",
      "|         64|       0|     3|Skoog, Master. Ha...|  male| 4.0|    3|    2|          347088|    27.9|       NULL|       S|\n",
      "|         65|       0|     1|Stewart, Mr. Albe...|  male|NULL|    0|    0|        PC 17605| 27.7208|       NULL|       C|\n",
      "|         66|       1|     3|Moubarek, Master....|  male|NULL|    1|    1|            2661| 15.2458|       NULL|       C|\n",
      "|         67|       1|     2|Nye, Mrs. (Elizab...|female|29.0|    0|    0|      C.A. 29395|    10.5|        F33|       S|\n",
      "|         68|       0|     3|Crease, Mr. Ernes...|  male|19.0|    0|    0|       S.P. 3464|  8.1583|       NULL|       S|\n",
      "|         69|       1|     3|Andersson, Miss. ...|female|17.0|    4|    2|         3101281|   7.925|       NULL|       S|\n",
      "|         70|       0|     3|   Kink, Mr. Vincenz|  male|26.0|    2|    0|          315151|  8.6625|       NULL|       S|\n",
      "|         71|       0|     2|Jenkin, Mr. Steph...|  male|32.0|    0|    0|      C.A. 33111|    10.5|       NULL|       S|\n",
      "|         72|       0|     3|Goodwin, Miss. Li...|female|16.0|    5|    2|         CA 2144|    46.9|       NULL|       S|\n",
      "|         73|       0|     2|Hood, Mr. Ambrose Jr|  male|21.0|    0|    0|    S.O.C. 14879|    73.5|       NULL|       S|\n",
      "|         74|       0|     3|Chronopoulos, Mr....|  male|26.0|    1|    0|            2680| 14.4542|       NULL|       C|\n",
      "|         75|       1|     3|       Bing, Mr. Lee|  male|32.0|    0|    0|            1601| 56.4958|       NULL|       S|\n",
      "|         76|       0|     3|Moen, Mr. Sigurd ...|  male|25.0|    0|    0|          348123|    7.65|      F G73|       S|\n",
      "|         77|       0|     3|   Staneff, Mr. Ivan|  male|NULL|    0|    0|          349208|  7.8958|       NULL|       S|\n",
      "|         78|       0|     3|Moutal, Mr. Raham...|  male|NULL|    0|    0|          374746|    8.05|       NULL|       S|\n",
      "|         79|       1|     2|Caldwell, Master....|  male|0.83|    0|    2|          248738|    29.0|       NULL|       S|\n",
      "|         80|       1|     3|Dowdell, Miss. El...|female|30.0|    0|    0|          364516|  12.475|       NULL|       S|\n",
      "|         81|       0|     3|Waelens, Mr. Achille|  male|22.0|    0|    0|          345767|     9.0|       NULL|       S|\n",
      "|         82|       1|     3|Sheerlinck, Mr. J...|  male|29.0|    0|    0|          345779|     9.5|       NULL|       S|\n",
      "|         83|       1|     3|McDermott, Miss. ...|female|NULL|    0|    0|          330932|  7.7875|       NULL|       Q|\n",
      "|         84|       0|     1|Carrau, Mr. Franc...|  male|28.0|    0|    0|          113059|    47.1|       NULL|       S|\n",
      "|         85|       1|     2| Ilett, Miss. Bertha|female|17.0|    0|    0|      SO/C 14885|    10.5|       NULL|       S|\n",
      "|         86|       1|     3|Backstrom, Mrs. K...|female|33.0|    3|    0|         3101278|   15.85|       NULL|       S|\n",
      "|         87|       0|     3|Ford, Mr. William...|  male|16.0|    1|    3|      W./C. 6608|  34.375|       NULL|       S|\n",
      "|         88|       0|     3|Slocovski, Mr. Se...|  male|NULL|    0|    0| SOTON/OQ 392086|    8.05|       NULL|       S|\n",
      "|         89|       1|     1|Fortune, Miss. Ma...|female|23.0|    3|    2|           19950|   263.0|C23 C25 C27|       S|\n",
      "|         90|       0|     3|Celotti, Mr. Fran...|  male|24.0|    0|    0|          343275|    8.05|       NULL|       S|\n",
      "|         91|       0|     3|Christmann, Mr. Emil|  male|29.0|    0|    0|          343276|    8.05|       NULL|       S|\n",
      "|         92|       0|     3|Andreasson, Mr. P...|  male|20.0|    0|    0|          347466|  7.8542|       NULL|       S|\n",
      "|         93|       0|     1|Chaffee, Mr. Herb...|  male|46.0|    1|    0|     W.E.P. 5734|  61.175|        E31|       S|\n",
      "|         94|       0|     3|Dean, Mr. Bertram...|  male|26.0|    1|    2|       C.A. 2315|  20.575|       NULL|       S|\n",
      "|         95|       0|     3|   Coxon, Mr. Daniel|  male|59.0|    0|    0|          364500|    7.25|       NULL|       S|\n",
      "|         96|       0|     3|Shorney, Mr. Char...|  male|NULL|    0|    0|          374910|    8.05|       NULL|       S|\n",
      "|         97|       0|     1|Goldschmidt, Mr. ...|  male|71.0|    0|    0|        PC 17754| 34.6542|         A5|       C|\n",
      "|         98|       1|     1|Greenfield, Mr. W...|  male|23.0|    0|    1|        PC 17759| 63.3583|    D10 D12|       C|\n",
      "|         99|       1|     2|Doling, Mrs. John...|female|34.0|    0|    1|          231919|    23.0|       NULL|       S|\n",
      "|        100|       0|     2|   Kantor, Mr. Sinai|  male|34.0|    1|    0|          244367|    26.0|       NULL|       S|\n",
      "+-----------+--------+------+--------------------+------+----+-----+-----+----------------+--------+-----------+--------+\n",
      "only showing top 100 rows\n",
      "\n"
     ]
    }
   ],
   "source": [
    "df = spark.read.parquet('titanic.parquet')\n",
    "df.show(n=100)"
   ]
  },
  {
   "cell_type": "code",
   "execution_count": 21,
   "id": "efa32fc7-0d3d-45b6-85fe-245b6a8683da",
   "metadata": {},
   "outputs": [
    {
     "name": "stdout",
     "output_type": "stream",
     "text": [
      "+------+-----------------+\n",
      "|   Sex|         avg(Age)|\n",
      "+------+-----------------+\n",
      "|female|32.67613636363637|\n",
      "|  male|38.45178947368421|\n",
      "+------+-----------------+\n",
      "\n"
     ]
    }
   ],
   "source": [
    "from pyspark.sql.functions import *\n",
    "filter_df = df.groupBy('Sex').agg(avg('Age'))\n",
    "filter_df.show()"
   ]
  },
  {
   "cell_type": "code",
   "execution_count": 15,
   "id": "a503a4da-dbeb-46f1-9e14-39751e7fe527",
   "metadata": {},
   "outputs": [
    {
     "name": "stdout",
     "output_type": "stream",
     "text": [
      "+-----------+--------+------+--------------------+------+----+-----+-----+-----------+--------+-----------+--------+\n",
      "|PassengerId|Survived|Pclass|                Name|   Sex| Age|SibSp|Parch|     Ticket|    Fare|      Cabin|Embarked|\n",
      "+-----------+--------+------+--------------------+------+----+-----+-----+-----------+--------+-----------+--------+\n",
      "|          2|       1|     1|Cumings, Mrs. Joh...|female|38.0|    1|    0|   PC 17599| 71.2833|        C85|       C|\n",
      "|          4|       1|     1|Futrelle, Mrs. Ja...|female|35.0|    1|    0|     113803|    53.1|       C123|       S|\n",
      "|          7|       0|     1|McCarthy, Mr. Tim...|  male|54.0|    0|    0|      17463| 51.8625|        E46|       S|\n",
      "|         11|       1|     3|Sandstrom, Miss. ...|female| 4.0|    1|    1|    PP 9549|    16.7|         G6|       S|\n",
      "|         12|       1|     1|Bonnell, Miss. El...|female|58.0|    0|    0|     113783|   26.55|       C103|       S|\n",
      "|         22|       1|     2|Beesley, Mr. Lawr...|  male|34.0|    0|    0|     248698|    13.0|        D56|       S|\n",
      "|         24|       1|     1|Sloper, Mr. Willi...|  male|28.0|    0|    0|     113788|    35.5|         A6|       S|\n",
      "|         28|       0|     1|Fortune, Mr. Char...|  male|19.0|    3|    2|      19950|   263.0|C23 C25 C27|       S|\n",
      "|         53|       1|     1|Harper, Mrs. Henr...|female|49.0|    1|    0|   PC 17572| 76.7292|        D33|       C|\n",
      "|         55|       0|     1|Ostby, Mr. Engelh...|  male|65.0|    0|    1|     113509| 61.9792|        B30|       C|\n",
      "|         63|       0|     1|Harris, Mr. Henry...|  male|45.0|    1|    0|      36973|  83.475|        C83|       S|\n",
      "|         67|       1|     2|Nye, Mrs. (Elizab...|female|29.0|    0|    0| C.A. 29395|    10.5|        F33|       S|\n",
      "|         76|       0|     3|Moen, Mr. Sigurd ...|  male|25.0|    0|    0|     348123|    7.65|      F G73|       S|\n",
      "|         89|       1|     1|Fortune, Miss. Ma...|female|23.0|    3|    2|      19950|   263.0|C23 C25 C27|       S|\n",
      "|         93|       0|     1|Chaffee, Mr. Herb...|  male|46.0|    1|    0|W.E.P. 5734|  61.175|        E31|       S|\n",
      "|         97|       0|     1|Goldschmidt, Mr. ...|  male|71.0|    0|    0|   PC 17754| 34.6542|         A5|       C|\n",
      "|         98|       1|     1|Greenfield, Mr. W...|  male|23.0|    0|    1|   PC 17759| 63.3583|    D10 D12|       C|\n",
      "|        103|       0|     1|White, Mr. Richar...|  male|21.0|    0|    1|      35281| 77.2875|        D26|       S|\n",
      "|        111|       0|     1|Porter, Mr. Walte...|  male|47.0|    0|    0|     110465|    52.0|       C110|       S|\n",
      "|        119|       0|     1|Baxter, Mr. Quigg...|  male|24.0|    0|    1|   PC 17558|247.5208|    B58 B60|       C|\n",
      "+-----------+--------+------+--------------------+------+----+-----+-----+-----------+--------+-----------+--------+\n",
      "only showing top 20 rows\n",
      "\n"
     ]
    }
   ],
   "source": [
    "df = df.na.drop()\n",
    "df.show()"
   ]
  },
  {
   "cell_type": "code",
   "execution_count": 19,
   "id": "e94810ef-1759-4d23-9614-7f5ef1bcb2b3",
   "metadata": {},
   "outputs": [
    {
     "name": "stdout",
     "output_type": "stream",
     "text": [
      "+------+-----------------+\n",
      "|   Sex|        avg(Fare)|\n",
      "+------+-----------------+\n",
      "|female|89.00089999999999|\n",
      "|  male|69.12434315789474|\n",
      "+------+-----------------+\n",
      "\n"
     ]
    }
   ],
   "source": [
    "avg_fare = df.groupBy('Sex').agg(avg('Fare'))\n",
    "avg_fare.show()"
   ]
  },
  {
   "cell_type": "code",
   "execution_count": 24,
   "id": "bb51e071-9701-4a17-8682-437a3776773c",
   "metadata": {},
   "outputs": [
    {
     "name": "stdout",
     "output_type": "stream",
     "text": [
      "+-----------+--------+------+--------------------+------+----+-----+-----+-----------+--------+-----------+--------+\n",
      "|PassengerId|Survived|Pclass|                Name|   Sex| Age|SibSp|Parch|     Ticket|    Fare|      Cabin|Embarked|\n",
      "+-----------+--------+------+--------------------+------+----+-----+-----+-----------+--------+-----------+--------+\n",
      "|          2|       1|     1|Cumings, Mrs. Joh...|Female|38.0|    1|    0|   PC 17599| 71.2833|        C85|       C|\n",
      "|          4|       1|     1|Futrelle, Mrs. Ja...|Female|35.0|    1|    0|     113803|    53.1|       C123|       S|\n",
      "|          7|       0|     1|Mccarthy, Mr. Tim...|  Male|54.0|    0|    0|      17463| 51.8625|        E46|       S|\n",
      "|         11|       1|     3|Sandstrom, Miss. ...|Female| 4.0|    1|    1|    PP 9549|    16.7|         G6|       S|\n",
      "|         12|       1|     1|Bonnell, Miss. El...|Female|58.0|    0|    0|     113783|   26.55|       C103|       S|\n",
      "|         22|       1|     2|Beesley, Mr. Lawr...|  Male|34.0|    0|    0|     248698|    13.0|        D56|       S|\n",
      "|         24|       1|     1|Sloper, Mr. Willi...|  Male|28.0|    0|    0|     113788|    35.5|         A6|       S|\n",
      "|         28|       0|     1|Fortune, Mr. Char...|  Male|19.0|    3|    2|      19950|   263.0|C23 C25 C27|       S|\n",
      "|         53|       1|     1|Harper, Mrs. Henr...|Female|49.0|    1|    0|   PC 17572| 76.7292|        D33|       C|\n",
      "|         55|       0|     1|Ostby, Mr. Engelh...|  Male|65.0|    0|    1|     113509| 61.9792|        B30|       C|\n",
      "|         63|       0|     1|Harris, Mr. Henry...|  Male|45.0|    1|    0|      36973|  83.475|        C83|       S|\n",
      "|         67|       1|     2|Nye, Mrs. (elizab...|Female|29.0|    0|    0| C.A. 29395|    10.5|        F33|       S|\n",
      "|         76|       0|     3|Moen, Mr. Sigurd ...|  Male|25.0|    0|    0|     348123|    7.65|      F G73|       S|\n",
      "|         89|       1|     1|Fortune, Miss. Ma...|Female|23.0|    3|    2|      19950|   263.0|C23 C25 C27|       S|\n",
      "|         93|       0|     1|Chaffee, Mr. Herb...|  Male|46.0|    1|    0|W.E.P. 5734|  61.175|        E31|       S|\n",
      "|         97|       0|     1|Goldschmidt, Mr. ...|  Male|71.0|    0|    0|   PC 17754| 34.6542|         A5|       C|\n",
      "|         98|       1|     1|Greenfield, Mr. W...|  Male|23.0|    0|    1|   PC 17759| 63.3583|    D10 D12|       C|\n",
      "|        103|       0|     1|White, Mr. Richar...|  Male|21.0|    0|    1|      35281| 77.2875|        D26|       S|\n",
      "|        111|       0|     1|Porter, Mr. Walte...|  Male|47.0|    0|    0|     110465|    52.0|       C110|       S|\n",
      "|        119|       0|     1|Baxter, Mr. Quigg...|  Male|24.0|    0|    1|   PC 17558|247.5208|    B58 B60|       C|\n",
      "+-----------+--------+------+--------------------+------+----+-----+-----+-----------+--------+-----------+--------+\n",
      "only showing top 20 rows\n",
      "\n"
     ]
    }
   ],
   "source": [
    "df =df.withColumn('Sex', initcap('Sex'))\n",
    "df.show()"
   ]
  },
  {
   "cell_type": "code",
   "execution_count": 30,
   "id": "89ad195a-2437-4dd9-b9fe-d13cccb38182",
   "metadata": {},
   "outputs": [
    {
     "name": "stdout",
     "output_type": "stream",
     "text": [
      "+-----------+--------+------+--------------------+------+----+-----+-----+----------+--------+-----------+--------+\n",
      "|PassengerId|Survived|Pclass|                Name|   Sex| Age|SibSp|Parch|    Ticket|    Fare|      Cabin|Embarked|\n",
      "+-----------+--------+------+--------------------+------+----+-----+-----+----------+--------+-----------+--------+\n",
      "|          2|       1|     1|Cumings, Mrs. Joh...|Female|38.0|    1|    0|  PC 17599| 71.2833|        C85|       C|\n",
      "|          4|       1|     1|Futrelle, Mrs. Ja...|Female|35.0|    1|    0|    113803|    53.1|       C123|       S|\n",
      "|         11|       1|     3|Sandstrom, Miss. ...|Female| 4.0|    1|    1|   PP 9549|    16.7|         G6|       S|\n",
      "|         12|       1|     1|Bonnell, Miss. El...|Female|58.0|    0|    0|    113783|   26.55|       C103|       S|\n",
      "|         22|       1|     2|Beesley, Mr. Lawr...|  Male|34.0|    0|    0|    248698|    13.0|        D56|       S|\n",
      "|         24|       1|     1|Sloper, Mr. Willi...|  Male|28.0|    0|    0|    113788|    35.5|         A6|       S|\n",
      "|         53|       1|     1|Harper, Mrs. Henr...|Female|49.0|    1|    0|  PC 17572| 76.7292|        D33|       C|\n",
      "|         67|       1|     2|Nye, Mrs. (elizab...|Female|29.0|    0|    0|C.A. 29395|    10.5|        F33|       S|\n",
      "|         89|       1|     1|Fortune, Miss. Ma...|Female|23.0|    3|    2|     19950|   263.0|C23 C25 C27|       S|\n",
      "|         98|       1|     1|Greenfield, Mr. W...|  Male|23.0|    0|    1|  PC 17759| 63.3583|    D10 D12|       C|\n",
      "|        124|       1|     2| Webber, Miss. Susan|Female|32.5|    0|    0|     27267|    13.0|       E101|       S|\n",
      "|        137|       1|     1|Newsom, Miss. Hel...|Female|19.0|    0|    2|     11752| 26.2833|        D47|       S|\n",
      "|        152|       1|     1|Pears, Mrs. Thoma...|Female|22.0|    1|    0|    113776|    66.6|         C2|       S|\n",
      "|        184|       1|     2|Becker, Master. R...|  Male| 1.0|    2|    1|    230136|    39.0|         F4|       S|\n",
      "|        194|       1|     2|Navratil, Master....|  Male| 3.0|    1|    1|    230080|    26.0|         F2|       S|\n",
      "|        195|       1|     1|Brown, Mrs. James...|Female|44.0|    0|    0|  PC 17610| 27.7208|         B4|       C|\n",
      "|        196|       1|     1|Lurette, Miss. Elise|Female|58.0|    0|    0|  PC 17569|146.5208|        B80|       C|\n",
      "|        210|       1|     1|    Blank, Mr. Henry|  Male|40.0|    0|    0|    112277|    31.0|        A31|       C|\n",
      "|        216|       1|     1|Newell, Miss. Mad...|Female|31.0|    1|    0|     35273| 113.275|        D36|       C|\n",
      "|        219|       1|     1|Bazzani, Miss. Al...|Female|32.0|    0|    0|     11813| 76.2917|        D15|       C|\n",
      "+-----------+--------+------+--------------------+------+----+-----+-----+----------+--------+-----------+--------+\n",
      "only showing top 20 rows\n",
      "\n",
      "+-----------+--------+------+--------------------+------+----+-----+-----+-----------+--------+-----------+--------+\n",
      "|PassengerId|Survived|Pclass|                Name|   Sex| Age|SibSp|Parch|     Ticket|    Fare|      Cabin|Embarked|\n",
      "+-----------+--------+------+--------------------+------+----+-----+-----+-----------+--------+-----------+--------+\n",
      "|          7|       0|     1|Mccarthy, Mr. Tim...|  Male|54.0|    0|    0|      17463| 51.8625|        E46|       S|\n",
      "|         28|       0|     1|Fortune, Mr. Char...|  Male|19.0|    3|    2|      19950|   263.0|C23 C25 C27|       S|\n",
      "|         55|       0|     1|Ostby, Mr. Engelh...|  Male|65.0|    0|    1|     113509| 61.9792|        B30|       C|\n",
      "|         63|       0|     1|Harris, Mr. Henry...|  Male|45.0|    1|    0|      36973|  83.475|        C83|       S|\n",
      "|         76|       0|     3|Moen, Mr. Sigurd ...|  Male|25.0|    0|    0|     348123|    7.65|      F G73|       S|\n",
      "|         93|       0|     1|Chaffee, Mr. Herb...|  Male|46.0|    1|    0|W.E.P. 5734|  61.175|        E31|       S|\n",
      "|         97|       0|     1|Goldschmidt, Mr. ...|  Male|71.0|    0|    0|   PC 17754| 34.6542|         A5|       C|\n",
      "|        103|       0|     1|White, Mr. Richar...|  Male|21.0|    0|    1|      35281| 77.2875|        D26|       S|\n",
      "|        111|       0|     1|Porter, Mr. Walte...|  Male|47.0|    0|    0|     110465|    52.0|       C110|       S|\n",
      "|        119|       0|     1|Baxter, Mr. Quigg...|  Male|24.0|    0|    1|   PC 17558|247.5208|    B58 B60|       C|\n",
      "|        125|       0|     1|White, Mr. Perciv...|  Male|54.0|    0|    1|      35281| 77.2875|        D26|       S|\n",
      "|        138|       0|     1|Futrelle, Mr. Jac...|  Male|37.0|    1|    0|     113803|    53.1|       C123|       S|\n",
      "|        140|       0|     1|  Giglio, Mr. Victor|  Male|24.0|    0|    0|   PC 17593|    79.2|        B86|       C|\n",
      "|        149|       0|     2|Navratil, Mr. Mic...|  Male|36.5|    0|    2|     230080|    26.0|         F2|       S|\n",
      "|        171|       0|     1|Van Der Hoef, Mr....|  Male|61.0|    0|    0|     111240|    33.5|        B19|       S|\n",
      "|        175|       0|     1|Smith, Mr. James ...|  Male|56.0|    0|    0|      17764| 30.6958|         A7|       C|\n",
      "|        178|       0|     1|Isham, Miss. Ann ...|Female|50.0|    0|    0|   PC 17595| 28.7125|        C49|       C|\n",
      "|        206|       0|     3|Strom, Miss. Telm...|Female| 2.0|    0|    1|     347054| 10.4625|         G6|       S|\n",
      "|        246|       0|     1|Minahan, Dr. Will...|  Male|44.0|    2|    0|      19928|    90.0|        C78|       Q|\n",
      "|        252|       0|     3|Strom, Mrs. Wilhe...|Female|29.0|    1|    1|     347054| 10.4625|         G6|       S|\n",
      "+-----------+--------+------+--------------------+------+----+-----+-----+-----------+--------+-----------+--------+\n",
      "only showing top 20 rows\n",
      "\n"
     ]
    }
   ],
   "source": [
    "df_survived = df.filter(df.Survived == 1)\n",
    "df_died = df.filter(df.Survived == 0)\n",
    "df_survived.show()\n",
    "df_died.show()"
   ]
  },
  {
   "cell_type": "code",
   "execution_count": null,
   "id": "3479d200-956b-4dcc-a678-e55fdbc3ede0",
   "metadata": {},
   "outputs": [],
   "source": []
  }
 ],
 "metadata": {
  "kernelspec": {
   "display_name": "Python 3 (ipykernel)",
   "language": "python",
   "name": "python3"
  },
  "language_info": {
   "codemirror_mode": {
    "name": "ipython",
    "version": 3
   },
   "file_extension": ".py",
   "mimetype": "text/x-python",
   "name": "python",
   "nbconvert_exporter": "python",
   "pygments_lexer": "ipython3",
   "version": "3.11.6"
  }
 },
 "nbformat": 4,
 "nbformat_minor": 5
}
